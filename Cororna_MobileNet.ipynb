{
 "cells": [
  {
   "cell_type": "code",
   "execution_count": null,
   "metadata": {
    "colab": {},
    "colab_type": "code",
    "id": "W3tOqx_NVTW5"
   },
   "outputs": [],
   "source": []
  },
  {
   "cell_type": "code",
   "execution_count": 1,
   "metadata": {
    "colab": {
     "base_uri": "https://localhost:8080/",
     "height": 50
    },
    "colab_type": "code",
    "id": "azJlGIN6v2UN",
    "outputId": "f131c8bb-4097-406d-96aa-3548c4d3e299"
   },
   "outputs": [
    {
     "name": "stdout",
     "output_type": "stream",
     "text": [
      "Archive:  /content/drive/My Drive/Covid19Pred/Dataset_kaggle.zip\n",
      "replace Dataset_kaggle/COVID/Covid (1).png? [y]es, [n]o, [A]ll, [N]one, [r]ename: N\n"
     ]
    }
   ],
   "source": [
    "!unzip '/content/drive/My Drive/Covid19Pred/Dataset_kaggle.zip'"
   ]
  },
  {
   "cell_type": "code",
   "execution_count": 2,
   "metadata": {
    "colab": {},
    "colab_type": "code",
    "id": "K9x3fe5TwX6G"
   },
   "outputs": [],
   "source": [
    "import os\n",
    "import cv2\n",
    "import numpy as np\n",
    "from PIL import Image\n",
    "import matplotlib.pyplot as plt\n",
    "from sklearn.model_selection import train_test_split\n",
    "import tensorflow as tf\n",
    "from tensorflow import keras\n",
    "from tensorflow.keras.models import Sequential\n",
    "from tensorflow.keras.layers import Conv2D,MaxPooling2D,Dense,Flatten,Dropout\n",
    "from tensorflow.keras.layers import BatchNormalization\n",
    "from tensorflow.keras.applications.mobilenet import MobileNet\n",
    "from tensorflow.keras.applications.resnet50 import ResNet50\n",
    "from tensorflow.keras import optimizers"
   ]
  },
  {
   "cell_type": "code",
   "execution_count": 3,
   "metadata": {
    "colab": {},
    "colab_type": "code",
    "id": "eCmORP2FwhfL"
   },
   "outputs": [],
   "source": [
    "yes=os.listdir('/content/Dataset_kaggle/COVID')\n",
    "no=os.listdir('/content/Dataset_kaggle/non-COVID')"
   ]
  },
  {
   "cell_type": "code",
   "execution_count": 4,
   "metadata": {
    "colab": {
     "base_uri": "https://localhost:8080/",
     "height": 33
    },
    "colab_type": "code",
    "id": "E71_ttudwlsC",
    "outputId": "0b4e4f34-843e-4ce2-8fbd-2c36d6a5bc4c"
   },
   "outputs": [
    {
     "data": {
      "text/plain": [
       "True"
      ]
     },
     "execution_count": 4,
     "metadata": {
      "tags": []
     },
     "output_type": "execute_result"
    }
   ],
   "source": [
    "data=np.concatenate([yes,no])\n",
    "len(data)==len(yes)+len(no)"
   ]
  },
  {
   "cell_type": "code",
   "execution_count": 5,
   "metadata": {
    "colab": {},
    "colab_type": "code",
    "id": "92B4B3WHwoCA"
   },
   "outputs": [],
   "source": [
    "target_x=np.full(len(yes),1)\n",
    "target_y=np.full(len(no),0)\n",
    "data_target=np.concatenate([target_x,target_y])"
   ]
  },
  {
   "cell_type": "code",
   "execution_count": 6,
   "metadata": {
    "colab": {},
    "colab_type": "code",
    "id": "x3yWHzedwqUt"
   },
   "outputs": [],
   "source": [
    "yes_values=os.listdir('/content/Dataset_kaggle/COVID')\n",
    "no_values=os.listdir('/content/Dataset_kaggle/non-COVID')"
   ]
  },
  {
   "cell_type": "code",
   "execution_count": 7,
   "metadata": {
    "colab": {},
    "colab_type": "code",
    "id": "L47V7VEIwtMc"
   },
   "outputs": [],
   "source": [
    "X_data =[]\n",
    "for file in yes_values:\n",
    "    img = cv2.imread('/content/Dataset_kaggle/COVID/'+file)\n",
    "    face = cv2.resize(img, (224, 224) )\n",
    "    (b, g, r)=cv2.split(face) \n",
    "    img=cv2.merge([r,g,b])\n",
    "    X_data.append(img)"
   ]
  },
  {
   "cell_type": "code",
   "execution_count": 8,
   "metadata": {
    "colab": {},
    "colab_type": "code",
    "id": "XJH-d08Jwwaq"
   },
   "outputs": [],
   "source": [
    "for file in no_values:\n",
    "    img = cv2.imread('/content/Dataset_kaggle/non-COVID/'+file)\n",
    "    face = cv2.resize(img, (224, 224) )\n",
    "    (b, g, r)=cv2.split(face) \n",
    "    img=cv2.merge([r,g,b])\n",
    "    X_data.append(img)"
   ]
  },
  {
   "cell_type": "code",
   "execution_count": 9,
   "metadata": {
    "colab": {},
    "colab_type": "code",
    "id": "QIlsDdpGwz2s"
   },
   "outputs": [],
   "source": [
    "X = np.squeeze(X_data)"
   ]
  },
  {
   "cell_type": "code",
   "execution_count": 10,
   "metadata": {
    "colab": {},
    "colab_type": "code",
    "id": "28HRZtKgw1vk"
   },
   "outputs": [],
   "source": [
    "X = X.astype('float32')\n",
    "X /= 255"
   ]
  },
  {
   "cell_type": "code",
   "execution_count": 11,
   "metadata": {
    "colab": {},
    "colab_type": "code",
    "id": "_8_FosXXXAHj"
   },
   "outputs": [],
   "source": [
    "train_size = None # number of samples for training\n",
    "test_size = None # number of samples for testing"
   ]
  },
  {
   "cell_type": "code",
   "execution_count": 12,
   "metadata": {
    "colab": {
     "base_uri": "https://localhost:8080/",
     "height": 33
    },
    "colab_type": "code",
    "id": "OlG53prbw3oe",
    "outputId": "ebbb8625-c577-4794-8155-d45e963c6d20"
   },
   "outputs": [
    {
     "name": "stdout",
     "output_type": "stream",
     "text": [
      "(1984, 224, 224, 3) (497, 224, 224, 3)\n"
     ]
    }
   ],
   "source": [
    "x_train,x_test,y_train,y_test=train_test_split(X, data_target, test_size=0.2, random_state=0)\n",
    "if train_size:\n",
    "    x_train = x_train[:train_size]\n",
    "    y_train = y_train[:train_size]\n",
    "if test_size:\n",
    "    x_test = x_test[:test_size]\n",
    "    y_test = y_test[:test_size]\n",
    "\n",
    "print(x_train.shape, x_test.shape)"
   ]
  },
  {
   "cell_type": "code",
   "execution_count": 13,
   "metadata": {
    "colab": {
     "base_uri": "https://localhost:8080/",
     "height": 385
    },
    "colab_type": "code",
    "id": "INdvIeKHw6fT",
    "outputId": "eccfa72c-4f4a-4c3d-8141-2cc341ff0ac2"
   },
   "outputs": [
    {
     "name": "stdout",
     "output_type": "stream",
     "text": [
      "Model: \"sequential\"\n",
      "_________________________________________________________________\n",
      "Layer (type)                 Output Shape              Param #   \n",
      "=================================================================\n",
      "mobilenet_1.00_224 (Model)   (None, 7, 7, 1024)        3228864   \n",
      "_________________________________________________________________\n",
      "flatten (Flatten)            (None, 50176)             0         \n",
      "_________________________________________________________________\n",
      "dense (Dense)                (None, 128)               6422656   \n",
      "_________________________________________________________________\n",
      "dropout (Dropout)            (None, 128)               0         \n",
      "_________________________________________________________________\n",
      "dense_1 (Dense)              (None, 64)                8256      \n",
      "_________________________________________________________________\n",
      "dropout_1 (Dropout)          (None, 64)                0         \n",
      "_________________________________________________________________\n",
      "dense_2 (Dense)              (None, 2)                 130       \n",
      "=================================================================\n",
      "Total params: 9,659,906\n",
      "Trainable params: 6,431,042\n",
      "Non-trainable params: 3,228,864\n",
      "_________________________________________________________________\n"
     ]
    }
   ],
   "source": [
    "mobile_net_model= MobileNet(weights='imagenet', include_top=False, input_shape=(224, 224, 3))\n",
    "mobile_net_model.trainable = False\n",
    "\n",
    "model =tf.keras.Sequential()\n",
    "model.add(mobile_net_model)\n",
    "model.add(Flatten())\n",
    "model.add(Dense(128, activation='relu'))\n",
    "model.add(Dropout(0.2))\n",
    "model.add(Dense(64, activation='relu'))\n",
    "model.add(Dropout(0.1))\n",
    "model.add(Dense(2, activation='softmax'))\n",
    "model.summary()"
   ]
  },
  {
   "cell_type": "code",
   "execution_count": 19,
   "metadata": {
    "colab": {},
    "colab_type": "code",
    "id": "EvW5id9hxsaj"
   },
   "outputs": [],
   "source": [
    "model.compile(loss='sparse_categorical_crossentropy',\n",
    "              optimizer=optimizers.Adam(),\n",
    "              metrics=['acc'])"
   ]
  },
  {
   "cell_type": "code",
   "execution_count": 21,
   "metadata": {
    "colab": {
     "base_uri": "https://localhost:8080/",
     "height": 686
    },
    "colab_type": "code",
    "id": "8NYN59R_x38z",
    "outputId": "bea19fb5-ed67-4762-d875-4ddd086203e5"
   },
   "outputs": [
    {
     "name": "stdout",
     "output_type": "stream",
     "text": [
      "Epoch 1/20\n",
      "20/20 [==============================] - 5s 256ms/step - loss: 0.7145 - acc: 0.8725 - val_loss: 0.3426 - val_acc: 0.9296\n",
      "Epoch 2/20\n",
      "20/20 [==============================] - 5s 257ms/step - loss: 0.3725 - acc: 0.9254 - val_loss: 0.2068 - val_acc: 0.9396\n",
      "Epoch 3/20\n",
      "20/20 [==============================] - 5s 257ms/step - loss: 0.1416 - acc: 0.9556 - val_loss: 0.1630 - val_acc: 0.9477\n",
      "Epoch 4/20\n",
      "20/20 [==============================] - 5s 256ms/step - loss: 0.0691 - acc: 0.9723 - val_loss: 0.1241 - val_acc: 0.9557\n",
      "Epoch 5/20\n",
      "20/20 [==============================] - 5s 257ms/step - loss: 0.0516 - acc: 0.9803 - val_loss: 0.1119 - val_acc: 0.9557\n",
      "Epoch 6/20\n",
      "20/20 [==============================] - 5s 256ms/step - loss: 0.0351 - acc: 0.9854 - val_loss: 0.1038 - val_acc: 0.9537\n",
      "Epoch 7/20\n",
      "20/20 [==============================] - 5s 257ms/step - loss: 0.0286 - acc: 0.9899 - val_loss: 0.1061 - val_acc: 0.9557\n",
      "Epoch 8/20\n",
      "20/20 [==============================] - 5s 258ms/step - loss: 0.0260 - acc: 0.9894 - val_loss: 0.1072 - val_acc: 0.9577\n",
      "Epoch 9/20\n",
      "20/20 [==============================] - 5s 257ms/step - loss: 0.0221 - acc: 0.9924 - val_loss: 0.1088 - val_acc: 0.9678\n",
      "Epoch 10/20\n",
      "20/20 [==============================] - 5s 258ms/step - loss: 0.0185 - acc: 0.9945 - val_loss: 0.1135 - val_acc: 0.9638\n",
      "Epoch 11/20\n",
      "20/20 [==============================] - 5s 257ms/step - loss: 0.0188 - acc: 0.9904 - val_loss: 0.1354 - val_acc: 0.9638\n",
      "Epoch 12/20\n",
      "20/20 [==============================] - 5s 256ms/step - loss: 0.0176 - acc: 0.9940 - val_loss: 0.1084 - val_acc: 0.9658\n",
      "Epoch 13/20\n",
      "20/20 [==============================] - 5s 257ms/step - loss: 0.0121 - acc: 0.9960 - val_loss: 0.1291 - val_acc: 0.9638\n",
      "Epoch 14/20\n",
      "20/20 [==============================] - 5s 259ms/step - loss: 0.0189 - acc: 0.9940 - val_loss: 0.1583 - val_acc: 0.9618\n",
      "Epoch 15/20\n",
      "20/20 [==============================] - 5s 255ms/step - loss: 0.0134 - acc: 0.9950 - val_loss: 0.1118 - val_acc: 0.9658\n",
      "Epoch 16/20\n",
      "20/20 [==============================] - 5s 258ms/step - loss: 0.0077 - acc: 0.9975 - val_loss: 0.1125 - val_acc: 0.9678\n",
      "Epoch 17/20\n",
      "20/20 [==============================] - 5s 257ms/step - loss: 0.0090 - acc: 0.9980 - val_loss: 0.1154 - val_acc: 0.9658\n",
      "Epoch 18/20\n",
      "20/20 [==============================] - 5s 258ms/step - loss: 0.0050 - acc: 0.9995 - val_loss: 0.1394 - val_acc: 0.9658\n",
      "Epoch 19/20\n",
      "20/20 [==============================] - 5s 255ms/step - loss: 0.0090 - acc: 0.9980 - val_loss: 0.1287 - val_acc: 0.9678\n",
      "Epoch 20/20\n",
      "20/20 [==============================] - 5s 255ms/step - loss: 0.0076 - acc: 0.9980 - val_loss: 0.1655 - val_acc: 0.9638\n"
     ]
    }
   ],
   "source": [
    "history = model.fit(\n",
    "    x_train,\n",
    "    y_train,\n",
    "    epochs=20,\n",
    "    batch_size=100,\n",
    "    validation_data=(x_test, y_test),\n",
    "    verbose=1)"
   ]
  },
  {
   "cell_type": "code",
   "execution_count": 22,
   "metadata": {
    "colab": {
     "base_uri": "https://localhost:8080/",
     "height": 33
    },
    "colab_type": "code",
    "id": "KziO5Q9-yJHw",
    "outputId": "2c2581fa-bc6b-4168-cc3a-7948594551e8"
   },
   "outputs": [
    {
     "name": "stdout",
     "output_type": "stream",
     "text": [
      "The final accuracy is  0.9637826681137085\n"
     ]
    }
   ],
   "source": [
    "final_loss, final_acc = model.evaluate(x_test, y_test, verbose=0)\n",
    "print('The final accuracy is ',final_acc)"
   ]
  },
  {
   "cell_type": "code",
   "execution_count": null,
   "metadata": {
    "colab": {},
    "colab_type": "code",
    "id": "n0HbLYHwzaBx"
   },
   "outputs": [],
   "source": []
  }
 ],
 "metadata": {
  "accelerator": "GPU",
  "colab": {
   "collapsed_sections": [],
   "name": "Cororna_MobileNet.ipynb",
   "provenance": []
  },
  "kernelspec": {
   "display_name": "Python 3",
   "language": "python",
   "name": "python3"
  },
  "language_info": {
   "codemirror_mode": {
    "name": "ipython",
    "version": 3
   },
   "file_extension": ".py",
   "mimetype": "text/x-python",
   "name": "python",
   "nbconvert_exporter": "python",
   "pygments_lexer": "ipython3",
   "version": "3.7.3"
  }
 },
 "nbformat": 4,
 "nbformat_minor": 1
}
